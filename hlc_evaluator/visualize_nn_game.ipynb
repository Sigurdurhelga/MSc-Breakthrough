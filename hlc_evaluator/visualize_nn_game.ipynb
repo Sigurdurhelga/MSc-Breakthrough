{
 "cells": [
  {
   "cell_type": "code",
   "execution_count": 2,
   "metadata": {},
   "outputs": [],
   "source": [
    "from monte_carlo.mcts import MCTS\n",
    "from monte_carlo.mctsnode import Node\n",
    "from game_environments.gamenode import GameNode\n",
    "from game_environments.breakthrough.breakthrough import BTBoard, config as BTConfig\n",
    "from neural_networks.breakthrough.breakthrough_nn import BreakthroughNN\n",
    "import numpy as np\n",
    "from tqdm import tqdm"
   ]
  },
  {
   "cell_type": "code",
   "execution_count": 4,
   "metadata": {},
   "outputs": [
    {
     "name": "stdout",
     "output_type": "stream",
     "text": [
      "value is: -0.020012911409139633\n",
      "value is: -0.011392802000045776\n",
      "value is: -0.024624627083539963\n",
      "value is: -0.01229373924434185\n",
      "value is: -0.016257699579000473\n",
      "value is: -0.016656646504998207\n",
      "value is: -0.0174273569136858\n",
      "value is: -0.01662929356098175\n",
      "value is: -0.021845858544111252\n",
      "value is: -0.013460529036819935\n",
      "value is: -0.017371345311403275\n",
      "value is: -0.0189797542989254\n",
      "value is: -0.012194518931210041\n",
      "value is: -0.01475525088608265\n"
     ]
    }
   ],
   "source": [
    "GAME = {\n",
    "    \"breakthrough\": BTBoard(np.zeros([6,6]),BTConfig.WHITE)\n",
    "}\n",
    "\n",
    "selected_game = GAME[\"breakthrough\"]\n",
    "initial_state = selected_game.initial_state()\n",
    "\n",
    "NEURAL_NETWORK_THINK = 100\n",
    "\n",
    "neural_network = BreakthroughNN(initial_state.cols, \n",
    "                                initial_state.rows, \n",
    "                                initial_state.get_move_amount())\n",
    "\n",
    "neural_network.loadmodel('./trained_models','session2_res5_gen_300.tar')\n",
    "\n",
    "curr_node = Node(initial_state, \"START\")\n",
    "\n",
    "monte_tree = MCTS()\n",
    "\n",
    "while True:\n",
    "    _,v = neural_network.safe_predict(curr_node.gamestate)\n",
    "    pi = monte_tree.get_policy(curr_node, NEURAL_NETWORK_THINK, neural_network)\n",
    "    \n",
    "#     print(\"Neural network is processing this node:\")\n",
    "#     curr_node.gamestate.print_board()\n",
    "    \n",
    "    print(\"value is:\",v.item())\n",
    "#     print(\"policy is:\")\n",
    "#     for i,child in enumerate(curr_node.children):\n",
    "#         if not child: continue\n",
    "#         print(\"[{}]: {} \".format(child.action,pi[i]))\n",
    "#     print(\"------------------------------\")\n",
    "    \n",
    "    curr_node = np.random.choice(curr_node.children, p=pi)\n",
    "    \n",
    "    if curr_node.gamestate.is_terminal():\n",
    "        break\n",
    "# print(\"END STATE\")\n",
    "# curr_node.gamestate.print_board()\n",
    "pi,v = neural_network.safe_predict(curr_node.gamestate)\n",
    "print(\"value is: {}\".format(v.item()))"
   ]
  },
  {
   "cell_type": "code",
   "execution_count": null,
   "metadata": {},
   "outputs": [],
   "source": []
  }
 ],
 "metadata": {
  "kernelspec": {
   "display_name": "Python 3",
   "language": "python",
   "name": "python3"
  },
  "language_info": {
   "codemirror_mode": {
    "name": "ipython",
    "version": 3
   },
   "file_extension": ".py",
   "mimetype": "text/x-python",
   "name": "python",
   "nbconvert_exporter": "python",
   "pygments_lexer": "ipython3",
   "version": "3.8.5"
  }
 },
 "nbformat": 4,
 "nbformat_minor": 4
}
